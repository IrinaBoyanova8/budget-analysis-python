{
 "cells": [
  {
   "cell_type": "code",
   "execution_count": 5,
   "id": "d1eb9eef-9336-4d9e-a569-c6ba79c83f04",
   "metadata": {},
   "outputs": [
    {
     "name": "stdout",
     "output_type": "stream",
     "text": [
      "Archivos creados: presupuesto.csv y real.csv\n"
     ]
    }
   ],
   "source": [
    "import pandas as pd\n",
    "import numpy as np\n",
    "\n",
    "# Departamentos y meses\n",
    "departamentos = ['Ventas', 'Marketing', 'Finanzas', 'IT', 'Operaciones']\n",
    "meses = ['Enero', 'Febrero', 'Marzo', 'Abril', 'Mayo', 'Junio',\n",
    "         'Julio', 'Agosto', 'Septiembre', 'Octubre', 'Noviembre', 'Diciembre']\n",
    "\n",
    "np.random.seed(42)\n",
    "data_presupuesto = []\n",
    "data_real = []\n",
    "\n",
    "for dept in departamentos:\n",
    "    for mes in meses:\n",
    "        presupuesto = np.random.randint(10000, 20000)\n",
    "        real = presupuesto + np.random.randint(-5000, 5000)\n",
    "        data_presupuesto.append([dept, mes, presupuesto])\n",
    "        data_real.append([dept, mes, real])\n",
    "\n",
    "# Crear DataFrames\n",
    "df_presupuesto = pd.DataFrame(data_presupuesto, columns=['Departamento', 'Mes', 'Presupuesto (€)'])\n",
    "df_real = pd.DataFrame(data_real, columns=['Departamento', 'Mes', 'Real (€)'])\n",
    "\n",
    "# Guardar en CSV\n",
    "df_presupuesto.to_csv('presupuesto.csv', index=False)\n",
    "df_real.to_csv('real.csv', index=False)\n",
    "\n",
    "print(\"Archivos creados: presupuesto.csv y real.csv\")"
   ]
  }
 ],
 "metadata": {
  "kernelspec": {
   "display_name": "Python 3 (ipykernel)",
   "language": "python",
   "name": "python3"
  },
  "language_info": {
   "codemirror_mode": {
    "name": "ipython",
    "version": 3
   },
   "file_extension": ".py",
   "mimetype": "text/x-python",
   "name": "python",
   "nbconvert_exporter": "python",
   "pygments_lexer": "ipython3",
   "version": "3.12.4"
  }
 },
 "nbformat": 4,
 "nbformat_minor": 5
}
